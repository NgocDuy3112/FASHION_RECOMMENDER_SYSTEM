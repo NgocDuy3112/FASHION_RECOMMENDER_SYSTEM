{
 "cells": [
  {
   "cell_type": "code",
   "execution_count": 1,
   "metadata": {},
   "outputs": [],
   "source": [
    "import pandas as pd\n",
    "import random"
   ]
  },
  {
   "cell_type": "code",
   "execution_count": 2,
   "metadata": {},
   "outputs": [],
   "source": [
    "def is_a_full_combination(combination):\n",
    "    if 'shirts_tops' in combination: return any(item in combination for item in ['pants', 'skirts', 'shorts'])\n",
    "    if 'dresses' in combination:\n",
    "        if any(item in combination for item in ['shirts_tops', 'pants', 'shorts', 'skirts']):\n",
    "            return False\n",
    "        else: return True\n",
    "    return False"
   ]
  },
  {
   "cell_type": "code",
   "execution_count": 3,
   "metadata": {},
   "outputs": [],
   "source": [
    "# Function to extract category from an image path\n",
    "def extract_category(image_path):\n",
    "    return image_path.split('/')[1]  # Assuming the category is the first part of the path\n",
    "\n",
    "# Function to replace only one item with an item from another list with the same category\n",
    "def replace_one_item_with_another_list(df):\n",
    "    replaced_df = df.copy()\n",
    "    for index, row in df.iterrows():\n",
    "        # Randomly select an item from the current list\n",
    "        index_to_replace = random.randint(0, len(row['image_paths']) - 1)\n",
    "        item_to_replace = row['image_paths'][index_to_replace]\n",
    "\n",
    "        # Extract the category of the item to be replaced\n",
    "        category_to_replace = extract_category(item_to_replace)\n",
    "\n",
    "        # Find another list with a different index but containing items with the same category\n",
    "        other_lists = [lst for i, lst in enumerate(df['image_paths']) if i != index and any(extract_category(image_path) == category_to_replace for image_path in lst)]\n",
    "\n",
    "        # If there are no other lists with the same category, skip replacement\n",
    "        if not other_lists:\n",
    "            continue\n",
    "\n",
    "        # Choose a random list from the other lists\n",
    "        other_list = random.choice(other_lists)\n",
    "\n",
    "        # Choose a replacement item from the other list with the same category\n",
    "        replacement_item = random.choice([image_path for image_path in other_list if extract_category(image_path) == category_to_replace])\n",
    "\n",
    "        # Replace the item with the replacement item\n",
    "        replaced_list = [replacement_item if i == index_to_replace else image_path for i, image_path in enumerate(row['image_paths'])]\n",
    "        replaced_df.at[index, 'image_paths'] = replaced_list\n",
    "\n",
    "    return replaced_df"
   ]
  },
  {
   "cell_type": "code",
   "execution_count": 4,
   "metadata": {},
   "outputs": [],
   "source": [
    "def process_dataframe(df_path, parent_dir=\"../complete-the-look-dataset/items\", sub_dir=\"train\"):\n",
    "    df = pd.read_csv(df_path, engine='c')\n",
    "    df['image_paths'] = parent_dir + \"/\" + sub_dir + \"/\" + df['label'] + \"/\" + df['image_signature'] + \".jpg\"\n",
    "    \n",
    "    remove_items_list = ['belts', 'gloves_mittens', 'jumpsuits_rompers', 'neckties', 'rings', 'socks', 'stockings', 'swimwear']\n",
    "    # List all image_signatures contains at least one of the values in remove_items_list\n",
    "    removed_df = df[df['label'].isin(remove_items_list)]\n",
    "    # Removed all image_signatures in df contains in removed_df\n",
    "    df = df[~df['image_signature'].isin(removed_df['image_signature'])]\n",
    "    # Remove combinations contains less than 3 items and more than 5 items\n",
    "    grouped_data = df.groupby('image_signature')['label'].apply(list).reset_index()\n",
    "    filtered_data = grouped_data[(grouped_data['label'].apply(len) >= 3) & (grouped_data['label'].apply(len) <= 5) & (grouped_data['label'].apply(is_a_full_combination))]\n",
    "    df = df[df['image_signature'].isin(filtered_data['image_signature'])]\n",
    "    # Reset index\n",
    "    new_df = df.groupby('image_signature')['image_paths'].apply(list).reset_index()\n",
    "    return new_df"
   ]
  },
  {
   "cell_type": "code",
   "execution_count": 5,
   "metadata": {},
   "outputs": [],
   "source": [
    "true_train_df = process_dataframe(\n",
    "    df_path=\"../complete-the-look-dataset/datasets/preprocessed/true_train.csv\",\n",
    "    parent_dir=\"/kaggle/input/ctl-items/items\",\n",
    "    sub_dir=\"train\"\n",
    ")\n",
    "true_train_df['label'] = 1\n",
    "if 'image_signature' in true_train_df.columns:\n",
    "    true_train_df = true_train_df.drop('image_signature', axis=1)"
   ]
  },
  {
   "cell_type": "code",
   "execution_count": 6,
   "metadata": {},
   "outputs": [],
   "source": [
    "fake_train_df = replace_one_item_with_another_list(true_train_df)\n",
    "fake_train_df['label'] = 0"
   ]
  },
  {
   "cell_type": "code",
   "execution_count": 7,
   "metadata": {},
   "outputs": [
    {
     "data": {
      "text/html": [
       "<div>\n",
       "<style scoped>\n",
       "    .dataframe tbody tr th:only-of-type {\n",
       "        vertical-align: middle;\n",
       "    }\n",
       "\n",
       "    .dataframe tbody tr th {\n",
       "        vertical-align: top;\n",
       "    }\n",
       "\n",
       "    .dataframe thead th {\n",
       "        text-align: right;\n",
       "    }\n",
       "</style>\n",
       "<table border=\"1\" class=\"dataframe\">\n",
       "  <thead>\n",
       "    <tr style=\"text-align: right;\">\n",
       "      <th></th>\n",
       "      <th>image_paths</th>\n",
       "      <th>label</th>\n",
       "    </tr>\n",
       "  </thead>\n",
       "  <tbody>\n",
       "    <tr>\n",
       "      <th>0</th>\n",
       "      <td>[/kaggle/input/ctl-items/items/train/handbags/...</td>\n",
       "      <td>1</td>\n",
       "    </tr>\n",
       "    <tr>\n",
       "      <th>1</th>\n",
       "      <td>[/kaggle/input/ctl-items/items/train/pants/04f...</td>\n",
       "      <td>1</td>\n",
       "    </tr>\n",
       "    <tr>\n",
       "      <th>2</th>\n",
       "      <td>[/kaggle/input/ctl-items/items/train/coats_jac...</td>\n",
       "      <td>1</td>\n",
       "    </tr>\n",
       "    <tr>\n",
       "      <th>3</th>\n",
       "      <td>[/kaggle/input/ctl-items/items/train/handbags/...</td>\n",
       "      <td>1</td>\n",
       "    </tr>\n",
       "    <tr>\n",
       "      <th>4</th>\n",
       "      <td>[/kaggle/input/ctl-items/items/train/dresses/0...</td>\n",
       "      <td>1</td>\n",
       "    </tr>\n",
       "  </tbody>\n",
       "</table>\n",
       "</div>"
      ],
      "text/plain": [
       "                                         image_paths  label\n",
       "0  [/kaggle/input/ctl-items/items/train/handbags/...      1\n",
       "1  [/kaggle/input/ctl-items/items/train/pants/04f...      1\n",
       "2  [/kaggle/input/ctl-items/items/train/coats_jac...      1\n",
       "3  [/kaggle/input/ctl-items/items/train/handbags/...      1\n",
       "4  [/kaggle/input/ctl-items/items/train/dresses/0...      1"
      ]
     },
     "execution_count": 7,
     "metadata": {},
     "output_type": "execute_result"
    }
   ],
   "source": [
    "# Stack 2 dataframes vertically\n",
    "train_df = pd.concat([true_train_df, fake_train_df])\n",
    "train_df.to_csv(\"grouped_train.csv\", index=False)\n",
    "train_df.head()"
   ]
  },
  {
   "cell_type": "code",
   "execution_count": 8,
   "metadata": {},
   "outputs": [],
   "source": [
    "true_test_df = process_dataframe(\n",
    "    df_path=\"../complete-the-look-dataset/datasets/preprocessed/true_test.csv\",\n",
    "    parent_dir=\"/kaggle/input/ctl-items/items\",\n",
    "    sub_dir=\"test\"\n",
    ")\n",
    "true_test_df['label'] = 1\n",
    "if 'image_signature' in true_test_df.columns:\n",
    "    true_test_df = true_test_df.drop('image_signature', axis=1)"
   ]
  },
  {
   "cell_type": "code",
   "execution_count": 9,
   "metadata": {},
   "outputs": [],
   "source": [
    "fake_test_df = replace_one_item_with_another_list(true_test_df)\n",
    "fake_test_df['label'] = 0"
   ]
  },
  {
   "cell_type": "code",
   "execution_count": 10,
   "metadata": {},
   "outputs": [
    {
     "data": {
      "text/html": [
       "<div>\n",
       "<style scoped>\n",
       "    .dataframe tbody tr th:only-of-type {\n",
       "        vertical-align: middle;\n",
       "    }\n",
       "\n",
       "    .dataframe tbody tr th {\n",
       "        vertical-align: top;\n",
       "    }\n",
       "\n",
       "    .dataframe thead th {\n",
       "        text-align: right;\n",
       "    }\n",
       "</style>\n",
       "<table border=\"1\" class=\"dataframe\">\n",
       "  <thead>\n",
       "    <tr style=\"text-align: right;\">\n",
       "      <th></th>\n",
       "      <th>image_paths</th>\n",
       "      <th>label</th>\n",
       "    </tr>\n",
       "  </thead>\n",
       "  <tbody>\n",
       "    <tr>\n",
       "      <th>0</th>\n",
       "      <td>[/kaggle/input/ctl-items/items/test/shirts_top...</td>\n",
       "      <td>1</td>\n",
       "    </tr>\n",
       "    <tr>\n",
       "      <th>1</th>\n",
       "      <td>[/kaggle/input/ctl-items/items/test/shirts_top...</td>\n",
       "      <td>1</td>\n",
       "    </tr>\n",
       "    <tr>\n",
       "      <th>2</th>\n",
       "      <td>[/kaggle/input/ctl-items/items/test/shoes/0001...</td>\n",
       "      <td>1</td>\n",
       "    </tr>\n",
       "    <tr>\n",
       "      <th>3</th>\n",
       "      <td>[/kaggle/input/ctl-items/items/test/sunglasses...</td>\n",
       "      <td>1</td>\n",
       "    </tr>\n",
       "    <tr>\n",
       "      <th>4</th>\n",
       "      <td>[/kaggle/input/ctl-items/items/test/coats_jack...</td>\n",
       "      <td>1</td>\n",
       "    </tr>\n",
       "  </tbody>\n",
       "</table>\n",
       "</div>"
      ],
      "text/plain": [
       "                                         image_paths  label\n",
       "0  [/kaggle/input/ctl-items/items/test/shirts_top...      1\n",
       "1  [/kaggle/input/ctl-items/items/test/shirts_top...      1\n",
       "2  [/kaggle/input/ctl-items/items/test/shoes/0001...      1\n",
       "3  [/kaggle/input/ctl-items/items/test/sunglasses...      1\n",
       "4  [/kaggle/input/ctl-items/items/test/coats_jack...      1"
      ]
     },
     "execution_count": 10,
     "metadata": {},
     "output_type": "execute_result"
    }
   ],
   "source": [
    "# Stack 2 dataframes vertically\n",
    "test_df = pd.concat([true_test_df, fake_test_df])\n",
    "test_df.to_csv(\"grouped_test.csv\", index=False)\n",
    "test_df.head()"
   ]
  }
 ],
 "metadata": {
  "kernelspec": {
   "display_name": "ml-env",
   "language": "python",
   "name": "python3"
  },
  "language_info": {
   "codemirror_mode": {
    "name": "ipython",
    "version": 3
   },
   "file_extension": ".py",
   "mimetype": "text/x-python",
   "name": "python",
   "nbconvert_exporter": "python",
   "pygments_lexer": "ipython3",
   "version": "3.10.9"
  }
 },
 "nbformat": 4,
 "nbformat_minor": 2
}
