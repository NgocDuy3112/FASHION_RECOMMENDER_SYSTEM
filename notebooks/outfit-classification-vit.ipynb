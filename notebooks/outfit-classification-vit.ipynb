{
  "cells": [
    {
      "cell_type": "markdown",
      "metadata": {
        "id": "LYpyKZs0_f6e"
      },
      "source": [
        "# Outfit classification"
      ]
    },
    {
      "cell_type": "markdown",
      "metadata": {},
      "source": [
        "# Training"
      ]
    },
    {
      "cell_type": "code",
      "execution_count": 1,
      "metadata": {
        "id": "XrJbCwDlGMTp"
      },
      "outputs": [],
      "source": [
        "import os\n",
        "from datetime import datetime\n",
        "import torch\n",
        "import torch.nn as nn\n",
        "import torch.optim as optim\n",
        "from torchvision.transforms import Resize, CenterCrop, ToTensor, Normalize, Compose\n",
        "from torchvision.datasets import ImageFolder\n",
        "from torch.utils.data import DataLoader, Subset\n",
        "from torchvision.models.vision_transformer import VisionTransformer\n",
        "from sklearn.model_selection import train_test_split\n",
        "import random\n",
        "import pandas as pd\n",
        "from sklearn.metrics import roc_curve, auc, accuracy_score\n",
        "import numpy as np\n",
        "import matplotlib.pyplot as plt\n",
        "from PIL import Image\n",
        "from concurrent.futures import ThreadPoolExecutor\n",
        "\n",
        "random.seed(42)"
      ]
    },
    {
      "cell_type": "code",
      "execution_count": 2,
      "metadata": {
        "id": "jieSbriMqIO4"
      },
      "outputs": [],
      "source": [
        "IMAGE_SIZE = 448\n",
        "\n",
        "transform = Compose([\n",
        "    Resize([IMAGE_SIZE, IMAGE_SIZE]),\n",
        "    ToTensor(),\n",
        "    Normalize(mean=[0.5, 0.5, 0.5], std=[0.5, 0.5, 0.5])\n",
        "])\n",
        "\n",
        "# Load the datasets using ImageFolder\n",
        "dataset = ImageFolder(\n",
        "    root=\"../complete-the-look-dataset/outfit-classification/train\",\n",
        "    transform=transform,\n",
        ")\n",
        "\n",
        "train_idx, valid_idx = train_test_split(np.arange(len(dataset)), test_size=0.2, random_state=42,\n",
        "                                        shuffle=True, stratify=dataset.targets)\n",
        "\n",
        "train_dataset = Subset(dataset, train_idx)\n",
        "val_dataset = Subset(dataset, valid_idx)\n",
        "\n",
        "model = VisionTransformer(image_size=IMAGE_SIZE, patch_size=16, num_layers=4, \n",
        "                          num_heads=8, hidden_dim=64, mlp_dim=64, \n",
        "                          dropout=0.25, attention_dropout=0.1, num_classes=len(dataset.classes))\n",
        "\n",
        "for param in model.parameters():\n",
        "    param.requires_grad = False\n",
        "\n",
        "in_features = model.heads.head.in_features\n",
        "model.heads = nn.Sequential(\n",
        "    nn.Linear(in_features, 256),\n",
        "    nn.ReLU(),\n",
        "    nn.Dropout(0.25),\n",
        "    nn.Linear(256, 128),\n",
        "    nn.ReLU(),\n",
        "    nn.Dropout(0.25),\n",
        "    nn.Linear(128, len(dataset.classes))\n",
        ")\n",
        "\n",
        "# device = torch.device(\"cuda\" if torch.cuda.is_available() else \"cpu\")\n",
        "device = \"mps\"\n",
        "\n",
        "# Move model to the device\n",
        "model.to(device)"
      ]
    },
    {
      "cell_type": "code",
      "execution_count": 3,
      "metadata": {
        "id": "_F4Gqf2MqUDK"
      },
      "outputs": [],
      "source": [
        "# Define batch size\n",
        "batch_size = 32\n",
        "\n",
        "train_loader = DataLoader(\n",
        "    train_dataset,\n",
        "    batch_size=batch_size,\n",
        "    shuffle=True,\n",
        "    num_workers=4,\n",
        "    pin_memory=True\n",
        ")\n",
        "\n",
        "val_loader = DataLoader(\n",
        "    val_dataset,\n",
        "    batch_size=batch_size,\n",
        "    shuffle=False,\n",
        "    num_workers=4,\n",
        "    pin_memory=True\n",
        ")\n",
        "\n",
        "# Initialize the ViT model\n",
        "optimizer = optim.AdamW(model.parameters(), lr=1e-4)\n",
        "\n",
        "# Define the loss function\n",
        "criterion = nn.BCELoss()"
      ]
    },
    {
      "cell_type": "code",
      "execution_count": 5,
      "metadata": {
        "id": "W_DeENMRqrDg"
      },
      "outputs": [
        {
          "name": "stdout",
          "output_type": "stream",
          "text": [
            "Best checkpoint saved for epoch 1 at ../checkpoints/outfit-classification-vit/best_model_2024-03-26_21-48-04_epoch_1.pt\n",
            "Epoch 1, train loss = 0.6938717045954296, val_loss = 0.6931779540793972\n",
            "Epoch 2, train loss = 0.6934438234872062, val_loss = 0.693330370303351\n",
            "Epoch 3, train loss = 0.6933600115255459, val_loss = 0.6933390190211338\n",
            "Epoch 4, train loss = 0.6933103736950502, val_loss = 0.6932228184646364\n",
            "Epoch 5, train loss = 0.6932614962980537, val_loss = 0.6931815379906547\n",
            "Best checkpoint saved for epoch 6 at ../checkpoints/outfit-classification-vit/best_model_2024-03-26_23-51-48_epoch_6.pt\n",
            "Epoch 6, train loss = 0.6932417313029906, val_loss = 0.6931550570279029\n",
            "Best checkpoint saved for epoch 7 at ../checkpoints/outfit-classification-vit/best_model_2024-03-27_00-15-58_epoch_7.pt\n",
            "Epoch 7, train loss = 0.6932076543878397, val_loss = 0.6931440532428084\n",
            "Epoch 8, train loss = 0.6932008352149953, val_loss = 0.693179060096303\n",
            "Epoch 9, train loss = 0.6932333443868081, val_loss = 0.6931531581501005\n",
            "Epoch 10, train loss = 0.6931863612020395, val_loss = 0.6931529886011368\n"
          ]
        }
      ],
      "source": [
        "best_val_loss = float('inf')  # Initialize with a very large value\n",
        "best_checkpoint_path = None\n",
        "num_epochs = 10\n",
        "train_losses = []\n",
        "val_losses = []\n",
        "\n",
        "for epoch in range(num_epochs):\n",
        "    # Training\n",
        "    model.train()\n",
        "    epoch_train_losses = []\n",
        "    for images, labels in train_loader:\n",
        "        images, labels = images.to(device), labels.to(device)\n",
        "        labels = labels.float()\n",
        "        labels = labels.unsqueeze(1)\n",
        "        optimizer.zero_grad()\n",
        "        outputs = model(images)\n",
        "        loss = criterion(outputs, labels)\n",
        "        loss.backward()\n",
        "        optimizer.step()\n",
        "        epoch_train_losses.append(loss.item())\n",
        "    train_loss = sum(epoch_train_losses) / len(epoch_train_losses)\n",
        "    train_losses.append(train_loss)\n",
        "\n",
        "    model.eval()\n",
        "    epoch_val_losses = []\n",
        "    with torch.no_grad():\n",
        "        for images, labels in val_loader:\n",
        "            images, labels = images.to(device), labels.to(device)\n",
        "            labels = labels.float()\n",
        "            labels = labels.unsqueeze(1)\n",
        "            outputs = model(images)\n",
        "            loss = criterion(outputs, labels)\n",
        "            epoch_val_losses.append(loss.item())\n",
        "\n",
        "        val_loss = sum(epoch_val_losses) / len(epoch_val_losses)\n",
        "        val_losses.append(val_loss)\n",
        "\n",
        "        # Save the model checkpoint if validation loss improves\n",
        "        if val_loss < best_val_loss:\n",
        "            best_val_loss = val_loss\n",
        "            current_datetime = datetime.now().strftime(\"%Y-%m-%d_%H-%M-%S\")\n",
        "            best_checkpoint_path = os.path.join(\"../checkpoints/outfit-classification-vit\", \n",
        "                                                f'best_model_{current_datetime}_epoch_{epoch + 1}.pt')\n",
        "            torch.save(model.state_dict(), best_checkpoint_path)\n",
        "            print(f\"Best checkpoint saved for epoch {epoch + 1} at {best_checkpoint_path}\")\n",
        "\n",
        "    print(f\"Epoch {epoch + 1}, train loss = {train_loss:.2f}, val_loss = {val_loss:.2f}\")"
      ]
    },
    {
      "cell_type": "code",
      "execution_count": 6,
      "metadata": {
        "id": "iL68-tJSr2bd"
      },
      "outputs": [
        {
          "data": {
            "image/png": "[encoded data removed]",
            "text/plain": [
              "<Figure size 640x480 with 1 Axes>"
            ]
          },
          "metadata": {},
          "output_type": "display_data"
        }
      ],
      "source": [
        "plt.plot(range(1, num_epochs + 1), train_losses, label='Training Loss')\n",
        "plt.plot(range(1, num_epochs + 1), val_losses, label='Validation Loss')\n",
        "plt.xlabel('Epoch')\n",
        "plt.ylabel('Loss')\n",
        "plt.title('Training and Validation Losses')\n",
        "plt.legend()\n",
        "plt.show()"
      ]
    },
    {
      "cell_type": "code",
      "execution_count": 7,
      "metadata": {},
      "outputs": [
        {
          "name": "stdout",
          "output_type": "stream",
          "text": [
            "Test Accuracy: 0.5000497166152928\n",
            "Test AUC: 0.5001318525978126\n"
          ]
        },
        {
          "data": {
            "image/png": "[encoded data removed]",
            "text/plain": [
              "<Figure size 640x480 with 1 Axes>"
            ]
          },
          "metadata": {},
          "output_type": "display_data"
        }
      ],
      "source": [
        "test_dataset = ImageFolder(\n",
        "    root=\"../complete-the-look-dataset/outfit-classification/test\",\n",
        "    transform=transform,\n",
        ")\n",
        "\n",
        "test_loader = DataLoader(\n",
        "    test_dataset,\n",
        "    batch_size=batch_size,\n",
        "    shuffle=False,\n",
        "    num_workers=4,\n",
        "    pin_memory=True\n",
        ")\n",
        "\n",
        "# Lists to store true labels and predicted scores\n",
        "true_labels = []\n",
        "predicted_scores = []\n",
        "\n",
        "# Load the best checkpoint\n",
        "model.load_state_dict(torch.load(best_checkpoint_path))\n",
        "model.to(device)\n",
        "\n",
        "# Iterate over the test set and collect true labels and predicted scores\n",
        "with torch.no_grad():\n",
        "    for images, labels in test_loader:\n",
        "        images, labels = images.to(device), labels.to(device)\n",
        "        labels = labels.float()\n",
        "        labels = labels.unsqueeze(1)\n",
        "        outputs = model(images)\n",
        "        predicted_scores.extend(outputs.cpu().numpy())\n",
        "        true_labels.extend(labels.cpu().numpy())\n",
        "\n",
        "# Convert lists to numpy arrays\n",
        "true_labels = np.array(true_labels)\n",
        "predicted_scores = np.array(predicted_scores)\n",
        "\n",
        "# Calculate test accuracy\n",
        "predicted_labels = np.round(predicted_scores)\n",
        "test_accuracy = accuracy_score(true_labels, predicted_labels)\n",
        "print(\"Test Accuracy:\", test_accuracy)\n",
        "\n",
        "# Calculate false positive rate, true positive rate, and thresholds\n",
        "fpr, tpr, thresholds = roc_curve(true_labels, predicted_scores)\n",
        "\n",
        "# Calculate AUC\n",
        "roc_auc = auc(fpr, tpr)\n",
        "print(\"Test AUC:\", roc_auc)\n",
        "\n",
        "# Plot ROC curve\n",
        "plt.figure()\n",
        "plt.plot(fpr, tpr, color='darkorange', lw=2, label=f'ROC curve (AUC = {roc_auc:.2f})')\n",
        "plt.plot([0, 1], [0, 1], color='navy', lw=2, linestyle='--')\n",
        "plt.xlim([0.0, 1.0])\n",
        "plt.ylim([0.0, 1.05])\n",
        "plt.xlabel('False Positive Rate')\n",
        "plt.ylabel('True Positive Rate')\n",
        "plt.title('Receiver Operating Characteristic (ROC) Curve')\n",
        "plt.legend(loc=\"lower right\")\n",
        "plt.show()"
      ]
    },
    {
      "cell_type": "markdown",
      "metadata": {},
      "source": [
        "# Evaluation"
      ]
    },
    {
      "cell_type": "code",
      "execution_count": 8,
      "metadata": {},
      "outputs": [],
      "source": [
        "import os\n",
        "from datetime import datetime\n",
        "import torch\n",
        "import torch.nn as nn\n",
        "import torch.optim as optim\n",
        "from torchvision.transforms import Resize, CenterCrop, ToTensor, Normalize, Compose\n",
        "from torchvision.datasets import ImageFolder\n",
        "from torch.utils.data import DataLoader, Subset\n",
        "from torchvision.models.vision_transformer import VisionTransformer\n",
        "from sklearn.model_selection import train_test_split\n",
        "import random\n",
        "import pandas as pd\n",
        "from sklearn.metrics import roc_curve, auc, accuracy_score\n",
        "import numpy as np\n",
        "import matplotlib.pyplot as plt\n",
        "from PIL import Image\n",
        "import time\n",
        "from concurrent.futures import ThreadPoolExecutor\n",
        "\n",
        "random.seed(42)"
      ]
    },
    {
      "cell_type": "code",
      "execution_count": 11,
      "metadata": {},
      "outputs": [
        {
          "data": {
            "text/plain": [
              "VisionTransformer(\n",
              "  (conv_proj): Conv2d(3, 64, kernel_size=(16, 16), stride=(16, 16))\n",
              "  (encoder): Encoder(\n",
              "    (dropout): Dropout(p=0.25, inplace=False)\n",
              "    (layers): Sequential(\n",
              "      (encoder_layer_0): EncoderBlock(\n",
              "        (ln_1): LayerNorm((64,), eps=1e-06, elementwise_affine=True)\n",
              "        (self_attention): MultiheadAttention(\n",
              "          (out_proj): NonDynamicallyQuantizableLinear(in_features=64, out_features=64, bias=True)\n",
              "        )\n",
              "        (dropout): Dropout(p=0.25, inplace=False)\n",
              "        (ln_2): LayerNorm((64,), eps=1e-06, elementwise_affine=True)\n",
              "        (mlp): MLPBlock(\n",
              "          (0): Linear(in_features=64, out_features=64, bias=True)\n",
              "          (1): GELU(approximate='none')\n",
              "          (2): Dropout(p=0.25, inplace=False)\n",
              "          (3): Linear(in_features=64, out_features=64, bias=True)\n",
              "          (4): Dropout(p=0.25, inplace=False)\n",
              "        )\n",
              "      )\n",
              "      (encoder_layer_1): EncoderBlock(\n",
              "        (ln_1): LayerNorm((64,), eps=1e-06, elementwise_affine=True)\n",
              "        (self_attention): MultiheadAttention(\n",
              "          (out_proj): NonDynamicallyQuantizableLinear(in_features=64, out_features=64, bias=True)\n",
              "        )\n",
              "        (dropout): Dropout(p=0.25, inplace=False)\n",
              "        (ln_2): LayerNorm((64,), eps=1e-06, elementwise_affine=True)\n",
              "        (mlp): MLPBlock(\n",
              "          (0): Linear(in_features=64, out_features=64, bias=True)\n",
              "          (1): GELU(approximate='none')\n",
              "          (2): Dropout(p=0.25, inplace=False)\n",
              "          (3): Linear(in_features=64, out_features=64, bias=True)\n",
              "          (4): Dropout(p=0.25, inplace=False)\n",
              "        )\n",
              "      )\n",
              "      (encoder_layer_2): EncoderBlock(\n",
              "        (ln_1): LayerNorm((64,), eps=1e-06, elementwise_affine=True)\n",
              "        (self_attention): MultiheadAttention(\n",
              "          (out_proj): NonDynamicallyQuantizableLinear(in_features=64, out_features=64, bias=True)\n",
              "        )\n",
              "        (dropout): Dropout(p=0.25, inplace=False)\n",
              "        (ln_2): LayerNorm((64,), eps=1e-06, elementwise_affine=True)\n",
              "        (mlp): MLPBlock(\n",
              "          (0): Linear(in_features=64, out_features=64, bias=True)\n",
              "          (1): GELU(approximate='none')\n",
              "          (2): Dropout(p=0.25, inplace=False)\n",
              "          (3): Linear(in_features=64, out_features=64, bias=True)\n",
              "          (4): Dropout(p=0.25, inplace=False)\n",
              "        )\n",
              "      )\n",
              "      (encoder_layer_3): EncoderBlock(\n",
              "        (ln_1): LayerNorm((64,), eps=1e-06, elementwise_affine=True)\n",
              "        (self_attention): MultiheadAttention(\n",
              "          (out_proj): NonDynamicallyQuantizableLinear(in_features=64, out_features=64, bias=True)\n",
              "        )\n",
              "        (dropout): Dropout(p=0.25, inplace=False)\n",
              "        (ln_2): LayerNorm((64,), eps=1e-06, elementwise_affine=True)\n",
              "        (mlp): MLPBlock(\n",
              "          (0): Linear(in_features=64, out_features=64, bias=True)\n",
              "          (1): GELU(approximate='none')\n",
              "          (2): Dropout(p=0.25, inplace=False)\n",
              "          (3): Linear(in_features=64, out_features=64, bias=True)\n",
              "          (4): Dropout(p=0.25, inplace=False)\n",
              "        )\n",
              "      )\n",
              "    )\n",
              "    (ln): LayerNorm((64,), eps=1e-06, elementwise_affine=True)\n",
              "  )\n",
              "  (heads): Sequential(\n",
              "    (0): Linear(in_features=64, out_features=64, bias=True)\n",
              "    (1): ReLU()\n",
              "    (2): Dropout(p=0.25, inplace=False)\n",
              "    (3): Linear(in_features=64, out_features=1, bias=True)\n",
              "    (4): Sigmoid()\n",
              "  )\n",
              ")"
            ]
          },
          "execution_count": 11,
          "metadata": {},
          "output_type": "execute_result"
        }
      ],
      "source": [
        "IMAGE_SIZE = 224\n",
        "\n",
        "transform = Compose([\n",
        "    Resize([IMAGE_SIZE, IMAGE_SIZE]),\n",
        "    ToTensor(),\n",
        "    Normalize(mean=[0.5, 0.5, 0.5], std=[0.5, 0.5, 0.5])\n",
        "])\n",
        "\n",
        "model = VisionTransformer(image_size=IMAGE_SIZE, patch_size=16, num_layers=4, \n",
        "                          num_heads=8, hidden_dim=64, mlp_dim=64, \n",
        "                          dropout=0.25, attention_dropout=0.1, num_classes=len(dataset.classes))\n",
        "\n",
        "for param in model.parameters():\n",
        "    param.requires_grad = False\n",
        "\n",
        "in_features = model.heads.head.in_features\n",
        "model.heads = nn.Sequential(\n",
        "    nn.Linear(in_features, 256),\n",
        "    nn.ReLU(),\n",
        "    nn.Dropout(0.25),\n",
        "    nn.Linear(256, 128),\n",
        "    nn.ReLU(),\n",
        "    nn.Dropout(0.25),\n",
        "    nn.Linear(128, len(dataset.classes))\n",
        ")\n",
        "\n",
        "best_checkpoint_path = \"../checkpoints/outfit-classification-vit/best_model_2024-03-27_00-15-58_epoch_7.pt\"\n",
        "model.load_state_dict(torch.load(best_checkpoint_path))\n",
        "device = \"mps\"\n",
        "model.to(device)"
      ]
    },
    {
      "cell_type": "code",
      "execution_count": 12,
      "metadata": {},
      "outputs": [],
      "source": [
        "def concatenate_images(images):\n",
        "    # Find the dimensions of the largest image\n",
        "    max_width = max(image.width for image in images)\n",
        "    max_height = max(image.height for image in images)\n",
        "\n",
        "    # Resize each image to the dimensions of the largest image\n",
        "    resized_images = [image.resize((max_width, max_height)) for image in images]\n",
        "\n",
        "    # Concatenate the resized images\n",
        "    total_width = sum(image.width for image in resized_images)\n",
        "    concatenated_image = Image.new('RGB', (total_width, max_height))\n",
        "    x_offset = 0\n",
        "    for image in resized_images:\n",
        "        concatenated_image.paste(image, (x_offset, 0))\n",
        "        x_offset += image.width\n",
        "\n",
        "    return concatenated_image"
      ]
    },
    {
      "cell_type": "code",
      "execution_count": 13,
      "metadata": {},
      "outputs": [],
      "source": [
        "test_items_df = pd.read_csv(\"../complete-the-look-dataset/datasets/preprocessed/test.csv\")\n",
        "test_items_df['image_path'] = \"../complete-the-look-dataset/items/test/\" + test_items_df['label'] + '/' +\\\n",
        "    test_items_df['image_signature'] + '.jpg'\n",
        "\n",
        "# Gather all image_path with the same image_signature as a dictionary\n",
        "image_paths_grouped = test_items_df.groupby('image_signature')['image_path'].apply(list).to_dict()\n",
        "image_paths_dict = {k: v for k, v in image_paths_grouped.items() if len(v) > 1}\n",
        "\n",
        "correct = 0\n",
        "\n",
        "start_time = time.time()\n",
        "# Loop over the dictionary\n",
        "for image_signature, image_paths in image_paths_dict.items():\n",
        "    # Remove an item in the image_paths randomly\n",
        "    multi_choice_paths = []\n",
        "    removed_path = image_paths.pop(np.random.randint(0, len(image_paths)))\n",
        "    # Check the label of removed_path\n",
        "    label = test_items_df.loc[test_items_df['image_path'] == removed_path, 'label'].values[0]\n",
        "    \n",
        "    for _ in range(3):\n",
        "        # Choose an image with the same label as removed_path label\n",
        "        label_df = test_items_df[test_items_df['label'] == label]\n",
        "        chosen_path = label_df.iloc[np.random.randint(0, len(label_df)), 2]\n",
        "        multi_choice_paths.append(chosen_path)\n",
        "    multi_choice_paths.append(removed_path)\n",
        "    outfit_compability_scores = []\n",
        "    \n",
        "    # Concat all images in multi_choice_paths using PIL\n",
        "    for path in multi_choice_paths:\n",
        "        new_combo = []\n",
        "        \n",
        "        new_combo = [image_path for image_path in image_paths]\n",
        "        images = [Image.open(path) for path in new_combo]\n",
        "        concatenated_image = concatenate_images(images)\n",
        "        input = transform(concatenated_image)\n",
        "        # Use model to output the score\n",
        "        with torch.no_grad():\n",
        "            outputs = model(input.unsqueeze(0).to(device))\n",
        "            outfit_compability_scores.append(outputs.cpu().numpy())\n",
        "            \n",
        "    # Get the index of the item has best score\n",
        "    best_score_index = np.argmax(outfit_compability_scores)\n",
        "    # Check if best_score_index equals the index of removed_path\n",
        "    if best_score_index == len(multi_choice_paths) - 1:\n",
        "        correct += 1\n",
        "\n",
        "end_time = time.time()"
      ]
    },
    {
      "cell_type": "code",
      "execution_count": 14,
      "metadata": {},
      "outputs": [
        {
          "name": "stdout",
          "output_type": "stream",
          "text": [
            "Fill in the blank accuracy: 24.11%\n",
            "Average evaluation time for each combination: 0.06s\n"
          ]
        }
      ],
      "source": [
        "fitb_acc = correct / len(image_paths_dict) * 100\n",
        "print(f\"Fill in the blank accuracy: {fitb_acc:.2f}%\")\n",
        "avg_eval_time = (end_time - start_time) / len(image_paths_dict)\n",
        "print(f\"Average evaluation time for each combination: {avg_eval_time:.2f}s\")"
      ]
    }
  ],
  "metadata": {
    "accelerator": "GPU",
    "colab": {
      "gpuType": "T4",
      "provenance": []
    },
    "kernelspec": {
      "display_name": "Python 3",
      "name": "python3"
    },
    "language_info": {
      "codemirror_mode": {
        "name": "ipython",
        "version": 3
      },
      "file_extension": ".py",
      "mimetype": "text/x-python",
      "name": "python",
      "nbconvert_exporter": "python",
      "pygments_lexer": "ipython3",
      "version": "3.10.13"
    }
  },
  "nbformat": 4,
  "nbformat_minor": 0
}
